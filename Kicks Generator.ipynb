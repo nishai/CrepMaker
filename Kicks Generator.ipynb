{
 "cells": [
  {
   "attachments": {},
   "cell_type": "markdown",
   "metadata": {},
   "source": [
    "# Kicks Generator\n",
    "\n",
    "<img src=\"images/wave_runner.jpg\" alt=\"Wave Runner\" width=\"200\" align=\"left\"/>"
   ]
  },
  {
   "cell_type": "code",
   "execution_count": 23,
   "metadata": {},
   "outputs": [],
   "source": [
    "import numpy as np\n",
    "import matplotlib.pyplot as plt\n",
    "from tqdm.autonotebook import tqdm"
   ]
  },
  {
   "cell_type": "markdown",
   "metadata": {},
   "source": [
    "## Step One: copping some clean creps\n",
    "I scraped images off [Flight Club](https://flightclub.com/) to use as training data. They're a sneaker retailer in New York that stock tons of sneakers but more importantly: they have great pics of their sneakers on their online store! So I obviously do not own any of the images, and the copyright belongs to Flight Club. Please don't sue me✌🏽.\n",
    "\n",
    "The dataset consists of these photos, without any labels or metadata beyond the image data."
   ]
  },
  {
   "cell_type": "code",
   "execution_count": null,
   "metadata": {},
   "outputs": [],
   "source": []
  }
 ],
 "metadata": {
  "anaconda-cloud": {},
  "kernelspec": {
   "display_name": "Python [default]",
   "language": "python",
   "name": "python3"
  },
  "widgets": {
   "state": {
    "5bba929258794c739d4c7c6ed034c8aa": {
     "views": [
      {
       "cell_index": 4
      }
     ]
    },
    "810161ac644f4030899999a00e6a7e1c": {
     "views": [
      {
       "cell_index": 4
      }
     ]
    },
    "84983a0f51a0418e87f851f18318c343": {
     "views": [
      {
       "cell_index": 4
      }
     ]
    },
    "d7e9e9125b58470e9d87827421f0aac7": {
     "views": [
      {
       "cell_index": 4
      }
     ]
    }
   },
   "version": "1.2.0"
  }
 },
 "nbformat": 4,
 "nbformat_minor": 1
}
